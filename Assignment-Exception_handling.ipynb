{
 "cells": [
  {
   "cell_type": "code",
   "execution_count": 59,
   "metadata": {},
   "outputs": [
    {
     "name": "stdout",
     "output_type": "stream",
     "text": [
      "division by zero\n",
      "program continues to execute\n"
     ]
    }
   ],
   "source": [
    "'''1.Write a function to compute 5/0 and use try/except to catch the exceptions.'''\n",
    "\n",
    "def div(a):\n",
    "    try:\n",
    "        c = a/0\n",
    "        print(\"check\")\n",
    "    except Exception as b:\n",
    "        print(b)\n",
    "\n",
    "div(5)\n",
    "print(\"program continues to execute\")\n"
   ]
  },
  {
   "cell_type": "code",
   "execution_count": 37,
   "metadata": {},
   "outputs": [
    {
     "name": "stdout",
     "output_type": "stream",
     "text": [
      "['Americans Play Baseball']\n",
      "['Americans Play cricket']\n",
      "['Americans watch Baseball']\n",
      "['Americans watch cricket']\n",
      "['Indians Play Baseball']\n",
      "['Indians Play cricket']\n",
      "['Indians watch Baseball']\n",
      "['Indians watch cricket']\n"
     ]
    }
   ],
   "source": [
    "'''2. Implement a Python program to generate all sentences where subject is in\n",
    "[\"Americans\", \"Indians\"] and verb is in [\"Play\", \"watch\"] and the object is in\n",
    "[\"Baseball\",\"cricket\"].'''\n",
    "\n",
    "sub = [\"Americans\", \"Indians\"]\n",
    "verb = [\"Play\", \"watch\"]\n",
    "obj = [\"Baseball\",\"cricket\"]\n",
    "sen = []\n",
    "for i in  sub:\n",
    "    for j in verb:\n",
    "        for k in obj:\n",
    "            sen.append(i+\" \"+j+\" \"+k)\n",
    "            print(sen)\n",
    "            sen=[]\n",
    "    "
   ]
  },
  {
   "cell_type": "code",
   "execution_count": null,
   "metadata": {},
   "outputs": [],
   "source": []
  }
 ],
 "metadata": {
  "kernelspec": {
   "display_name": "Python 3",
   "language": "python",
   "name": "python3"
  },
  "language_info": {
   "codemirror_mode": {
    "name": "ipython",
    "version": 3
   },
   "file_extension": ".py",
   "mimetype": "text/x-python",
   "name": "python",
   "nbconvert_exporter": "python",
   "pygments_lexer": "ipython3",
   "version": "3.7.0"
  }
 },
 "nbformat": 4,
 "nbformat_minor": 2
}
